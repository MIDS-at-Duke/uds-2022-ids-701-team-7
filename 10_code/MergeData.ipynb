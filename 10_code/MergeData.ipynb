{
 "cells": [
  {
   "cell_type": "code",
   "execution_count": 213,
   "metadata": {},
   "outputs": [],
   "source": [
    "path = '../Energy_Final.csv'\n",
    "# import dependencies\n",
    "import pandas as pd\n",
    "import numpy as np\n",
    "import matplotlib.pyplot as plt\n",
    "from functools import reduce\n",
    "\n",
    "# load data files\n",
    "weather = pd.read_csv('../00_source_data/weather.csv').drop(columns = 'Unnamed: 0')\n",
    "RPS = pd.read_csv('../00_source_data/StatesRPS.csv').drop(columns = ['Percentage', 'TargetYear'])\n",
    "prices = pd.read_csv('../sourcePrices.csv').drop(columns = 'Unnamed: 0')\n",
    "solar = pd.read_csv('../00_source_data/solar-pv-prices.csv')\n",
    "co2 = pd.read_excel('../CO2.xlsx')\n",
    "generation = pd.read_csv('../00_source_data/clean_energy_percent_processed.csv').drop(columns = 'Unnamed: 0')"
   ]
  },
  {
   "cell_type": "code",
   "execution_count": 214,
   "metadata": {},
   "outputs": [
    {
     "name": "stdout",
     "output_type": "stream",
     "text": [
      "RPS Columns: Index(['StateName', 'State', 'RPS', 'Enacted'], dtype='object')\n",
      "Weather Columns: Index(['Year', 'Average_Temp', 'StateName', 'Percipitation'], dtype='object')\n",
      "Prices Columns: Index(['Year', 'CoalPrice', 'NaturalGasPrice', 'NuclearPrice',\n",
      "       'PetroleumPrice', 'State'],\n",
      "      dtype='object')\n",
      "CO2 Columns: Index(['StateName', 'CO2', 'Year'], dtype='object')\n",
      "Solar Columns: Index(['Entity', 'Code', 'Year', 'SolarPrice'], dtype='object')\n",
      "Generation Columns: Index(['Year', 'State', 'TotalEnergyGeneration', 'CleanEnergyGeneration',\n",
      "       'CleanEnergyPercent'],\n",
      "      dtype='object')\n"
     ]
    }
   ],
   "source": [
    "# unify column names\n",
    "RPS = RPS.rename(columns = {'State':'StateName', 'Abbreviation': 'State'})\n",
    "prices = prices.rename(columns = {'year':'Year', 'coal':'CoalPrice', 'naturalGas':'NaturalGasPrice', \n",
    "                         'nuclear':'NuclearPrice', 'petroleum':'PetroleumPrice'})\n",
    "weather = weather.rename(columns = {'State':'StateName', 'percipitation':'Percipitation'})\n",
    "solar = solar.rename(columns = {'Solar PV Module Cost (2019 US$ per W)':'SolarPrice'})\n",
    "generation = generation.rename(columns = {'YEAR':'Year', 'STATE':'State', \n",
    "                                          'total energy generation':'TotalEnergyGeneration', \n",
    "                                          'clean energy generation':'CleanEnergyGeneration',\n",
    "                                          'clean_energy_percent':'CleanEnergyPercent'})\n",
    "\n",
    "# modify CO2\n",
    "def modify_co2(r):\n",
    "    # return three columns dataframe\n",
    "    state = [r['State']]\n",
    "    years = list(r.drop(['State', 'Percent', 'Absolute']).index)\n",
    "    data =  r.drop(['State', 'Percent', 'Absolute']).values\n",
    "    df = pd.DataFrame({'StateName': state*len(years), 'CO2': data, 'Year':years})\n",
    "    return df\n",
    "\n",
    "co2 = co2.apply(lambda r: modify_co2(r), axis = 1)\n",
    "co2 = reduce(lambda df1, df2: pd.concat([df1, df2]), co2)\n",
    "\n",
    "print('RPS Columns: ' + str(RPS.columns))\n",
    "print('Weather Columns: ' + str(weather.columns))\n",
    "print('Prices Columns: ' + str(prices.columns))\n",
    "print('CO2 Columns: ' + str(co2.columns))\n",
    "print('Solar Columns: ' + str(solar.columns))\n",
    "print('Generation Columns: ' + str(generation.columns))\n"
   ]
  },
  {
   "cell_type": "code",
   "execution_count": 215,
   "metadata": {},
   "outputs": [],
   "source": [
    "# merge Weather with RPS, this would add State variable to weather\n",
    "# state removed: Iowa,Kansas,Montana,North Dakota,Oklahoma,South Dakota,Wisconsin,DC,Hawaii\n",
    "df = weather.merge(RPS, on = 'StateName', how = 'inner')\n",
    "\n",
    "# merge df with weather, this would add State variable to solar\n",
    "df = df.merge(solar, on = 'Year', how = 'inner')\n",
    "\n",
    "# merge df with co2\n",
    "df = df.merge(co2, on = ['StateName', 'Year'], how = 'inner')\n",
    "\n",
    "# merge df with prcies\n",
    "df = df.merge(prices, on = ['State', 'Year'], how = 'inner')\n",
    "\n",
    "# merge df with generation\n",
    "df = df.merge(generation, on = ['State', 'Year'], how = 'inner')"
   ]
  },
  {
   "cell_type": "code",
   "execution_count": 216,
   "metadata": {},
   "outputs": [],
   "source": [
    "df.to_csv(path)"
   ]
  }
 ],
 "metadata": {
  "kernelspec": {
   "display_name": "Python 3",
   "language": "python",
   "name": "python3"
  },
  "language_info": {
   "codemirror_mode": {
    "name": "ipython",
    "version": 3
   },
   "file_extension": ".py",
   "mimetype": "text/x-python",
   "name": "python",
   "nbconvert_exporter": "python",
   "pygments_lexer": "ipython3",
   "version": "3.7.3"
  }
 },
 "nbformat": 4,
 "nbformat_minor": 2
}
